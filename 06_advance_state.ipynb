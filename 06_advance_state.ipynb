{
 "cells": [
  {
   "cell_type": "code",
   "execution_count": 1,
   "id": "00c0ed2a",
   "metadata": {},
   "outputs": [
    {
     "data": {
      "text/plain": [
       "True"
      ]
     },
     "execution_count": 1,
     "metadata": {},
     "output_type": "execute_result"
    }
   ],
   "source": [
    "from dotenv import load_dotenv\n",
    "\n",
    "load_dotenv()"
   ]
  },
  {
   "cell_type": "code",
   "execution_count": 2,
   "id": "abe74938",
   "metadata": {},
   "outputs": [],
   "source": [
    "from langchain_openai import ChatOpenAI\n",
    "from langgraph.graph import END, START, StateGraph\n",
    "\n",
    "model = ChatOpenAI()"
   ]
  },
  {
   "cell_type": "code",
   "execution_count": 3,
   "id": "0f352a6b",
   "metadata": {},
   "outputs": [],
   "source": [
    "from typing import TypedDict\n",
    "\n",
    "\n",
    "class ChatMessages(TypedDict):\n",
    "    question: str\n",
    "    answer: str\n",
    "    llm_calls: int"
   ]
  },
  {
   "cell_type": "code",
   "execution_count": 4,
   "id": "68cd5d8f",
   "metadata": {},
   "outputs": [],
   "source": [
    "def call_model(state: ChatMessages):\n",
    "    question = state[\"question\"]\n",
    "    llm_calls = state.get(\"llm_calls\", 0)\n",
    "    state[\"llm_calls\"] = llm_calls + 1\n",
    "    print(\"LLM_CALLS:\", state[\"llm_calls\"])\n",
    "    response = model.invoke(input=question)\n",
    "    state[\"answer\"] = response.content\n",
    "    return state"
   ]
  },
  {
   "cell_type": "code",
   "execution_count": 5,
   "id": "5d870903",
   "metadata": {},
   "outputs": [],
   "source": [
    "workflow = StateGraph(ChatMessages)\n",
    "\n",
    "workflow.add_edge(START, \"agent\")\n",
    "workflow.add_node(\"agent\", call_model)\n",
    "workflow.add_edge(\"agent\", END)\n",
    "\n",
    "graph = workflow.compile()"
   ]
  },
  {
   "cell_type": "code",
   "execution_count": 7,
   "id": "b56664dd",
   "metadata": {},
   "outputs": [
    {
     "data": {
      "image/png": "[encoded data removed]",
      "text/plain": [
       "<IPython.core.display.Image object>"
      ]
     },
     "metadata": {},
     "output_type": "display_data"
    }
   ],
   "source": [
    "from IPython.display import Image, display\n",
    "display(Image(graph.get_graph().draw_mermaid_png()))"
   ]
  },
  {
   "cell_type": "code",
   "execution_count": 8,
   "id": "fd59c394",
   "metadata": {},
   "outputs": [
    {
     "name": "stdout",
     "output_type": "stream",
     "text": [
      "LLM_CALLS: 1\n"
     ]
    },
    {
     "data": {
      "text/plain": [
       "{'question': 'Whats the highest mountain in the world?',\n",
       " 'answer': 'Mount Everest',\n",
       " 'llm_calls': 1}"
      ]
     },
     "execution_count": 8,
     "metadata": {},
     "output_type": "execute_result"
    }
   ],
   "source": [
    "graph.invoke(input={\"question\": \"Whats the highest mountain in the world?\"})"
   ]
  },
  {
   "cell_type": "code",
   "execution_count": 9,
   "id": "b6e76fbc",
   "metadata": {},
   "outputs": [],
   "source": [
    "from langgraph.graph import StateGraph, START, END\n",
    "from typing_extensions import TypedDict\n",
    "\n",
    "\n",
    "class InputState(TypedDict):\n",
    "    question: str\n",
    "\n",
    "\n",
    "class PrivateState(TypedDict):\n",
    "    llm_calls: int\n",
    "\n",
    "\n",
    "class OutputState(TypedDict):\n",
    "    answer: str\n",
    "\n",
    "\n",
    "class OverallState(InputState, PrivateState, OutputState):\n",
    "    pass"
   ]
  },
  {
   "cell_type": "code",
   "execution_count": 10,
   "id": "0af8c959",
   "metadata": {},
   "outputs": [],
   "source": [
    "workflow = StateGraph(state_schema=OverallState, input_schema=InputState, output_schema=OutputState)\n",
    "\n",
    "workflow.add_edge(START, \"agent\")\n",
    "workflow.add_node(\"agent\", call_model)\n",
    "workflow.add_edge(\"agent\", END)\n",
    "\n",
    "graph = workflow.compile()"
   ]
  },
  {
   "cell_type": "code",
   "execution_count": 11,
   "id": "53b5d359",
   "metadata": {},
   "outputs": [
    {
     "name": "stdout",
     "output_type": "stream",
     "text": [
      "LLM_CALLS: 1\n"
     ]
    },
    {
     "data": {
      "text/plain": [
       "{'answer': 'Mount Everest is the highest mountain in the world, with a peak that reaches an elevation of 29,032 feet (8,848 meters) above sea level.'}"
      ]
     },
     "execution_count": 11,
     "metadata": {},
     "output_type": "execute_result"
    }
   ],
   "source": [
    "graph.invoke({\"question\": \"Whats the highest mountain in the world?\"})"
   ]
  },
  {
   "cell_type": "code",
   "execution_count": null,
   "id": "697db055",
   "metadata": {},
   "outputs": [],
   "source": []
  }
 ],
 "metadata": {
  "kernelspec": {
   "display_name": "venv",
   "language": "python",
   "name": "python3"
  },
  "language_info": {
   "codemirror_mode": {
    "name": "ipython",
    "version": 3
   },
   "file_extension": ".py",
   "mimetype": "text/x-python",
   "name": "python",
   "nbconvert_exporter": "python",
   "pygments_lexer": "ipython3",
   "version": "3.13.5"
  }
 },
 "nbformat": 4,
 "nbformat_minor": 5
}
